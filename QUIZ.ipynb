{
 "cells": [
  {
   "cell_type": "markdown",
   "id": "3e8633b9-8bd0-4450-a79e-d3e2ca89a9af",
   "metadata": {},
   "source": [
    "# QUIZ GAME\n"
   ]
  },
  {
   "cell_type": "code",
   "execution_count": 2,
   "id": "d0d7ac65-1cf5-4aa6-8fee-f3c5b972abcc",
   "metadata": {},
   "outputs": [
    {
     "name": "stdout",
     "output_type": "stream",
     "text": [
      "WELCOME TO THE PYTHON  QUIZ\n"
     ]
    },
    {
     "name": "stdin",
     "output_type": "stream",
     "text": [
      "can u play?   YES\n"
     ]
    },
    {
     "name": "stdout",
     "output_type": "stream",
     "text": [
      "Okay ! let's play dude ) \n"
     ]
    },
    {
     "name": "stdin",
     "output_type": "stream",
     "text": [
      "How do you denote a single line comment in Python?   #\n"
     ]
    },
    {
     "name": "stdout",
     "output_type": "stream",
     "text": [
      "correct\n"
     ]
    },
    {
     "name": "stdin",
     "output_type": "stream",
     "text": [
      "What keyword is used to define a function?   def\n"
     ]
    },
    {
     "name": "stdout",
     "output_type": "stream",
     "text": [
      "correct\n"
     ]
    },
    {
     "name": "stdin",
     "output_type": "stream",
     "text": [
      "What method is used to get the length of a list?   len\n"
     ]
    },
    {
     "name": "stdout",
     "output_type": "stream",
     "text": [
      "correct\n"
     ]
    },
    {
     "name": "stdin",
     "output_type": "stream",
     "text": [
      "What function is used to get user input?    input\n"
     ]
    },
    {
     "name": "stdout",
     "output_type": "stream",
     "text": [
      "correct\n"
     ]
    },
    {
     "name": "stdin",
     "output_type": "stream",
     "text": [
      " What is the symbol for exponentiation in Python?  **\n"
     ]
    },
    {
     "name": "stdout",
     "output_type": "stream",
     "text": [
      "correct\n"
     ]
    },
    {
     "name": "stdin",
     "output_type": "stream",
     "text": [
      "What operator is used for integer division?  //\n"
     ]
    },
    {
     "name": "stdout",
     "output_type": "stream",
     "text": [
      "correct\n"
     ]
    },
    {
     "name": "stdin",
     "output_type": "stream",
     "text": [
      "What is the method to convert a string to lowercase?    lower\n"
     ]
    },
    {
     "name": "stdout",
     "output_type": "stream",
     "text": [
      "correct\n"
     ]
    },
    {
     "name": "stdin",
     "output_type": "stream",
     "text": [
      "Which keyword is used to handle exceptions?   try\n"
     ]
    },
    {
     "name": "stdout",
     "output_type": "stream",
     "text": [
      "correct\n",
      "you  got 8 out of 8\n",
      "you got 100.0 %\n"
     ]
    },
    {
     "name": "stdin",
     "output_type": "stream",
     "text": [
      "ENTER THE  END :  end\n"
     ]
    }
   ],
   "source": [
    "print('WELCOME TO THE PYTHON  QUIZ')\n",
    "a=input('can u play?  ').lower()\n",
    "if a!=\"yes\" :\n",
    "    quit()\n",
    "print(\"Okay ! let's play dude ) \")\n",
    "score=0\n",
    "ans=input(\"How do you denote a single line comment in Python?  \").lower()\n",
    "if ans == '#':\n",
    "    print('correct')\n",
    "    score+=1\n",
    "else:\n",
    "    print('incorrect')\n",
    "ans=input(\"What keyword is used to define a function?  \").lower()\n",
    "if ans == 'def':\n",
    "    print('correct')\n",
    "    score+=1\n",
    "else:\n",
    "    print('incorrect')\n",
    "    \n",
    "ans=input(\"What method is used to get the length of a list?  \").lower()\n",
    "if ans == 'len':\n",
    "    print('correct')\n",
    "    score+=1\n",
    "else:\n",
    "    print('incorrect')\n",
    "ans=input(\"What function is used to get user input?   \").lower()\n",
    "if ans == 'input':\n",
    "    print('correct')\n",
    "    score+=1\n",
    "else:\n",
    "    print('incorrect')\n",
    "ans=input(\" What is the symbol for exponentiation in Python? \").lower()\n",
    "if ans == '**':\n",
    "    print('correct')\n",
    "    score+=1\n",
    "else:\n",
    "    print('incorrect')\n",
    "ans=input(\"What operator is used for integer division? \").lower()\n",
    "if ans == '//':\n",
    "    print('correct')\n",
    "    score+=1\n",
    "else:\n",
    "    print('incorrect')\n",
    "ans=input(\"What is the method to convert a string to lowercase?   \").lower()\n",
    "if ans == 'lower':\n",
    "    print('correct')\n",
    "    score+=1\n",
    "else:\n",
    "    print('incorrect')\n",
    "ans=input(\"Which keyword is used to handle exceptions?  \").lower()\n",
    "if ans == 'try':\n",
    "    print('correct')\n",
    "    score+=1\n",
    "else:\n",
    "    print('incorrect')\n",
    "print(\"you  got \"+str( score ) +' out of 8')\n",
    "print('you got '+ str((score/8)*100)+\" %\")\n",
    "b=input(\"ENTER THE  END : \").upper()\n",
    "if b=='END':\n",
    "    quit()\n",
    "else:\n",
    "    print(\"<------  PLEASE TYPE END ------->\")"
   ]
  },
  {
   "cell_type": "code",
   "execution_count": null,
   "id": "aedd5062-70db-4d85-a830-895e9e6d9f2e",
   "metadata": {},
   "outputs": [],
   "source": []
  }
 ],
 "metadata": {
  "kernelspec": {
   "display_name": "Python 3 (ipykernel)",
   "language": "python",
   "name": "python3"
  },
  "language_info": {
   "codemirror_mode": {
    "name": "ipython",
    "version": 3
   },
   "file_extension": ".py",
   "mimetype": "text/x-python",
   "name": "python",
   "nbconvert_exporter": "python",
   "pygments_lexer": "ipython3",
   "version": "3.12.4"
  }
 },
 "nbformat": 4,
 "nbformat_minor": 5
}
