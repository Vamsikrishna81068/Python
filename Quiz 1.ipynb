{
 "cells": [
  {
   "cell_type": "markdown",
   "id": "0ffabeae-5de6-4a1a-82f2-9ca8293b4578",
   "metadata": {},
   "source": [
    "# QUIZ GAME\n",
    "By using list,dict and for loop"
   ]
  },
  {
   "cell_type": "code",
   "execution_count": 1,
   "id": "da7e943b-a438-40ef-bec1-aa7c172626c0",
   "metadata": {},
   "outputs": [
    {
     "name": "stdout",
     "output_type": "stream",
     "text": [
      "WELCOME TO THE PYTHON QUIZ\n"
     ]
    },
    {
     "name": "stdin",
     "output_type": "stream",
     "text": [
      "Can you play?  yes\n"
     ]
    },
    {
     "name": "stdout",
     "output_type": "stream",
     "text": [
      "Okay! Let's play!\n"
     ]
    },
    {
     "name": "stdin",
     "output_type": "stream",
     "text": [
      "How do you denote a single line comment in Python?  dghav\n"
     ]
    },
    {
     "name": "stdout",
     "output_type": "stream",
     "text": [
      "Incorrect\n"
     ]
    },
    {
     "name": "stdin",
     "output_type": "stream",
     "text": [
      "What keyword is used to define a function?  def\n"
     ]
    },
    {
     "name": "stdout",
     "output_type": "stream",
     "text": [
      "Correct\n"
     ]
    },
    {
     "name": "stdin",
     "output_type": "stream",
     "text": [
      "What method is used to get the length of a list?  len\n"
     ]
    },
    {
     "name": "stdout",
     "output_type": "stream",
     "text": [
      "Correct\n"
     ]
    },
    {
     "name": "stdin",
     "output_type": "stream",
     "text": [
      "What function is used to get user input?  input\n"
     ]
    },
    {
     "name": "stdout",
     "output_type": "stream",
     "text": [
      "Correct\n"
     ]
    },
    {
     "name": "stdin",
     "output_type": "stream",
     "text": [
      "What is the symbol for exponentiation in Python?  **\n"
     ]
    },
    {
     "name": "stdout",
     "output_type": "stream",
     "text": [
      "Correct\n"
     ]
    },
    {
     "name": "stdin",
     "output_type": "stream",
     "text": [
      "What operator is used for integer division?  //\n"
     ]
    },
    {
     "name": "stdout",
     "output_type": "stream",
     "text": [
      "Correct\n"
     ]
    },
    {
     "name": "stdin",
     "output_type": "stream",
     "text": [
      "What is the method to convert a string to lowercase?  lower\n"
     ]
    },
    {
     "name": "stdout",
     "output_type": "stream",
     "text": [
      "Correct\n"
     ]
    },
    {
     "name": "stdin",
     "output_type": "stream",
     "text": [
      "Which keyword is used to handle exceptions?  try\n"
     ]
    },
    {
     "name": "stdout",
     "output_type": "stream",
     "text": [
      "Correct\n",
      "You got 7 out of 8\n",
      "You got 87.5 %\n"
     ]
    },
    {
     "name": "stdin",
     "output_type": "stream",
     "text": [
      "ENTER THE END:  END\n"
     ]
    }
   ],
   "source": [
    "print('WELCOME TO THE PYTHON QUIZ')\n",
    "a = input('Can you play? ').lower()\n",
    "if a != \"yes\":\n",
    "    quit()\n",
    "\n",
    "print(\"Okay! Let's play!\")\n",
    "\n",
    "questions = [\n",
    "    {\"question\": \"How do you denote a single line comment in Python?\", \"answer\": \"#\"},\n",
    "    {\"question\": \"What keyword is used to define a function?\", \"answer\": \"def\"},\n",
    "    {\"question\": \"What method is used to get the length of a list?\", \"answer\": \"len\"},\n",
    "    {\"question\": \"What function is used to get user input?\", \"answer\": \"input\"},\n",
    "    {\"question\": \"What is the symbol for exponentiation in Python?\", \"answer\": \"**\"},\n",
    "    {\"question\": \"What operator is used for integer division?\", \"answer\": \"//\"},\n",
    "    {\"question\": \"What is the method to convert a string to lowercase?\", \"answer\": \"lower\"},\n",
    "    {\"question\": \"Which keyword is used to handle exceptions?\", \"answer\": \"try\"},\n",
    "]\n",
    "\n",
    "score = 0\n",
    "\n",
    "for q in questions:\n",
    "    ans = input(q[\"question\"] + \" \").lower()\n",
    "    if ans == q[\"answer\"]:\n",
    "        print(\"Correct\")\n",
    "        score += 1\n",
    "    else:\n",
    "        print(\"Incorrect\")\n",
    "\n",
    "print(\"You got \" + str(score) + \" out of \" + str(len(questions)))\n",
    "print(\"You got \" + str((score / len(questions)) * 100) + \" %\")\n",
    "\n",
    "b = input(\"ENTER THE END: \").upper()\n",
    "if b == 'END':\n",
    "    quit()\n",
    "else:\n",
    "    print(\"<------  PLEASE TYPE END ------->\")"
   ]
  },
  {
   "cell_type": "code",
   "execution_count": null,
   "id": "a6a8fc77-147c-4496-926d-5df5349e70b9",
   "metadata": {},
   "outputs": [],
   "source": []
  }
 ],
 "metadata": {
  "kernelspec": {
   "display_name": "Python 3 (ipykernel)",
   "language": "python",
   "name": "python3"
  },
  "language_info": {
   "codemirror_mode": {
    "name": "ipython",
    "version": 3
   },
   "file_extension": ".py",
   "mimetype": "text/x-python",
   "name": "python",
   "nbconvert_exporter": "python",
   "pygments_lexer": "ipython3",
   "version": "3.12.4"
  }
 },
 "nbformat": 4,
 "nbformat_minor": 5
}
